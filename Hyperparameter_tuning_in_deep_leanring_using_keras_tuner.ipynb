{
  "nbformat": 4,
  "nbformat_minor": 0,
  "metadata": {
    "colab": {
      "provenance": [],
      "include_colab_link": true
    },
    "kernelspec": {
      "name": "python3",
      "display_name": "Python 3"
    },
    "language_info": {
      "name": "python"
    },
    "accelerator": "GPU",
    "gpuClass": "standard"
  },
  "cells": [
    {
      "cell_type": "markdown",
      "metadata": {
        "id": "view-in-github",
        "colab_type": "text"
      },
      "source": [
        "<a href=\"https://colab.research.google.com/github/Pallav-Lama/deeplearning-projects/blob/main/Hyperparameter_tuning_in_deep_leanring_using_keras_tuner.ipynb\" target=\"_parent\"><img src=\"https://colab.research.google.com/assets/colab-badge.svg\" alt=\"Open In Colab\"/></a>"
      ]
    },
    {
      "cell_type": "code",
      "execution_count": null,
      "metadata": {
        "colab": {
          "base_uri": "https://localhost:8080/"
        },
        "id": "zVaYxmMRtfwp",
        "outputId": "ddc04388-4ad7-4d6f-f75d-fb9dd22d9ff7"
      },
      "outputs": [
        {
          "output_type": "stream",
          "name": "stdout",
          "text": [
            "\u001b[K     |████████████████████████████████| 135 kB 5.0 MB/s \n",
            "\u001b[K     |████████████████████████████████| 1.6 MB 36.6 MB/s \n",
            "\u001b[?25h"
          ]
        }
      ],
      "source": [
        "!pip install -q -U keras-tuner"
      ]
    },
    {
      "cell_type": "code",
      "source": [
        "import tensorflow as tf"
      ],
      "metadata": {
        "id": "Yx1Plm9Ft4v6"
      },
      "execution_count": null,
      "outputs": []
    },
    {
      "cell_type": "code",
      "source": [
        "(X_train, y_train), (X_test, y_test) = tf.keras.datasets.mnist.load_data()"
      ],
      "metadata": {
        "colab": {
          "base_uri": "https://localhost:8080/"
        },
        "id": "oL0ejNzHuKUA",
        "outputId": "d3523fb1-425b-4eb6-d046-a8a9491e44f8"
      },
      "execution_count": null,
      "outputs": [
        {
          "output_type": "stream",
          "name": "stdout",
          "text": [
            "Downloading data from https://storage.googleapis.com/tensorflow/tf-keras-datasets/mnist.npz\n",
            "11490434/11490434 [==============================] - 0s 0us/step\n"
          ]
        }
      ]
    },
    {
      "cell_type": "code",
      "source": [
        "X_train = X_train/255.0 # rescaling\n",
        "X_test = X_test/255.0"
      ],
      "metadata": {
        "id": "TcwwAGESuUd5"
      },
      "execution_count": null,
      "outputs": []
    },
    {
      "cell_type": "code",
      "source": [
        "def build_model(hp):\n",
        "    model = tf.keras.models.Sequential()\n",
        "    model.add(tf.keras.layers.Flatten(input_shape = (28, 28)))\n",
        "\n",
        "    hp_layer_1 = hp.Int('layer_1', min_value = 1, max_value = 1000, step = 100)\n",
        "    hp_layer_2 = hp.Int('layer_2', min_value = 1, max_value = 1000, step = 100)\n",
        "    hp_activation = hp.Choice('activation', values = ['relu', 'tanh'])\n",
        "    hp_learning_rate = hp.Choice('learning_rate', values=[1e-2, 1e-3, 1e-4])\n",
        "\n",
        "    model.add(tf.keras.layers.Dense(units = hp_layer_1, activation = hp_activation))\n",
        "    model.add(tf.keras.layers.Dense(units = hp_layer_2, activation = hp_activation))\n",
        "\n",
        "    model.add(tf.keras.layers.Dense(10, activation = 'softmax'))\n",
        "\n",
        "    model.compile(optimizer=tf.keras.optimizers.Adam(learning_rate=hp_learning_rate),\n",
        "                loss=tf.keras.losses.SparseCategoricalCrossentropy(),\n",
        "                metrics=['accuracy'])\n",
        "\n",
        "    return model"
      ],
      "metadata": {
        "id": "YWD4uqh2uy3k"
      },
      "execution_count": null,
      "outputs": []
    },
    {
      "cell_type": "code",
      "source": [
        "import keras_tuner as kt"
      ],
      "metadata": {
        "id": "UCQKoZbHydWL"
      },
      "execution_count": null,
      "outputs": []
    },
    {
      "cell_type": "code",
      "source": [
        "tuner = kt.Hyperband(build_model,\n",
        "             objective = 'val_accuracy',\n",
        "             max_epochs= 10,\n",
        "             factor = 3,\n",
        "             directory = 'kt',\n",
        "             project_name = 'x'\n",
        "             )"
      ],
      "metadata": {
        "id": "L-2Ng0pTyfW8"
      },
      "execution_count": null,
      "outputs": []
    },
    {
      "cell_type": "code",
      "source": [
        "stop_early = tf.keras.callbacks.EarlyStopping(monitor='val_loss', patience=3)"
      ],
      "metadata": {
        "id": "V8_eFpCjznPC"
      },
      "execution_count": null,
      "outputs": []
    },
    {
      "cell_type": "code",
      "source": [
        "tuner.search(X_train,\n",
        "             y_train,\n",
        "             epochs=10,\n",
        "             validation_split=0.2,\n",
        "             callbacks=[stop_early]) # search optimal model in train space"
      ],
      "metadata": {
        "colab": {
          "base_uri": "https://localhost:8080/"
        },
        "id": "shD3Jqea09gB",
        "outputId": "d8db2791-3153-41cb-bf91-efba1797f31f"
      },
      "execution_count": null,
      "outputs": [
        {
          "output_type": "stream",
          "name": "stdout",
          "text": [
            "Trial 30 Complete [00h 00m 44s]\n",
            "val_accuracy: 0.9605833292007446\n",
            "\n",
            "Best val_accuracy So Far: 0.9778333306312561\n",
            "Total elapsed time: 00h 11m 14s\n"
          ]
        }
      ]
    },
    {
      "cell_type": "code",
      "source": [
        "best_hps = tuner.get_best_hyperparameters(num_trials=1)[0] # get top model"
      ],
      "metadata": {
        "id": "wPptoc2s1iD2"
      },
      "execution_count": null,
      "outputs": []
    },
    {
      "cell_type": "code",
      "source": [
        "best_hps"
      ],
      "metadata": {
        "colab": {
          "base_uri": "https://localhost:8080/"
        },
        "id": "i22Nw__D5oWg",
        "outputId": "b37a443c-4f0e-4eb5-f8c3-f9b05bcf7c18"
      },
      "execution_count": null,
      "outputs": [
        {
          "output_type": "execute_result",
          "data": {
            "text/plain": [
              "<keras_tuner.engine.hyperparameters.HyperParameters at 0x7f0191069dd0>"
            ]
          },
          "metadata": {},
          "execution_count": 13
        }
      ]
    },
    {
      "cell_type": "code",
      "source": [
        "best_hps.values"
      ],
      "metadata": {
        "colab": {
          "base_uri": "https://localhost:8080/"
        },
        "id": "kGUxVY6n9Z1Z",
        "outputId": "c61f02f5-591a-4512-e3db-573571d218f8"
      },
      "execution_count": null,
      "outputs": [
        {
          "output_type": "execute_result",
          "data": {
            "text/plain": [
              "{'layer_1': 501,\n",
              " 'layer_2': 901,\n",
              " 'activation': 'relu',\n",
              " 'learning_rate': 0.0001,\n",
              " 'tuner/epochs': 10,\n",
              " 'tuner/initial_epoch': 0,\n",
              " 'tuner/bracket': 0,\n",
              " 'tuner/round': 0}"
            ]
          },
          "metadata": {},
          "execution_count": 20
        }
      ]
    },
    {
      "cell_type": "code",
      "source": [
        "best_hps.__dict__"
      ],
      "metadata": {
        "colab": {
          "base_uri": "https://localhost:8080/"
        },
        "id": "nquv4-dN9T7D",
        "outputId": "d3850134-0a2a-4397-b708-1901f5f91411"
      },
      "execution_count": null,
      "outputs": [
        {
          "output_type": "execute_result",
          "data": {
            "text/plain": [
              "{'_name_scopes': [],\n",
              " '_conditions': [],\n",
              " '_hps': defaultdict(list,\n",
              "             {'layer_1': [Int(name: \"layer_1\", min_value: 1, max_value: 1000, step: 100, sampling: None, default: 1)],\n",
              "              'layer_2': [Int(name: \"layer_2\", min_value: 1, max_value: 1000, step: 100, sampling: None, default: 1)],\n",
              "              'activation': [Choice(name: \"activation\", values: ['relu', 'tanh'], ordered: False, default: relu)],\n",
              "              'learning_rate': [Choice(name: \"learning_rate\", values: [0.01, 0.001, 0.0001], ordered: True, default: 0.01)]}),\n",
              " '_space': [Int(name: \"layer_1\", min_value: 1, max_value: 1000, step: 100, sampling: None, default: 1),\n",
              "  Int(name: \"layer_2\", min_value: 1, max_value: 1000, step: 100, sampling: None, default: 1),\n",
              "  Choice(name: \"activation\", values: ['relu', 'tanh'], ordered: False, default: relu),\n",
              "  Choice(name: \"learning_rate\", values: [0.01, 0.001, 0.0001], ordered: True, default: 0.01)],\n",
              " 'values': {'layer_1': 501,\n",
              "  'layer_2': 901,\n",
              "  'activation': 'relu',\n",
              "  'learning_rate': 0.0001,\n",
              "  'tuner/epochs': 10,\n",
              "  'tuner/initial_epoch': 0,\n",
              "  'tuner/bracket': 0,\n",
              "  'tuner/round': 0},\n",
              " 'active_scopes': [],\n",
              " 'inactive_scopes': []}"
            ]
          },
          "metadata": {},
          "execution_count": 19
        }
      ]
    },
    {
      "cell_type": "code",
      "source": [
        "best_hps['layer_1']"
      ],
      "metadata": {
        "colab": {
          "base_uri": "https://localhost:8080/"
        },
        "id": "KeVKXCG27uPu",
        "outputId": "efb9b3d2-cc3e-43b2-9d2a-7d99d36c90cb"
      },
      "execution_count": null,
      "outputs": [
        {
          "output_type": "execute_result",
          "data": {
            "text/plain": [
              "501"
            ]
          },
          "metadata": {},
          "execution_count": 17
        }
      ]
    },
    {
      "cell_type": "code",
      "source": [
        "best_hps['layer_2']"
      ],
      "metadata": {
        "colab": {
          "base_uri": "https://localhost:8080/"
        },
        "id": "uiqnf23R8NLC",
        "outputId": "c6574d23-2ecf-4843-cae0-78d9c6e90e53"
      },
      "execution_count": null,
      "outputs": [
        {
          "output_type": "execute_result",
          "data": {
            "text/plain": [
              "901"
            ]
          },
          "metadata": {},
          "execution_count": 18
        }
      ]
    },
    {
      "cell_type": "code",
      "source": [
        "model = tuner.hypermodel.build(best_hps)\n",
        "history = model.fit(X_train, y_train, epochs=20, validation_split=0.2,\n",
        "                    callbacks=[stop_early])"
      ],
      "metadata": {
        "colab": {
          "base_uri": "https://localhost:8080/"
        },
        "id": "KTZqHbIt2RPJ",
        "outputId": "1dbad695-d255-4c54-efd3-99925eb569a8"
      },
      "execution_count": null,
      "outputs": [
        {
          "output_type": "stream",
          "name": "stdout",
          "text": [
            "Epoch 1/20\n",
            "1500/1500 [==============================] - 5s 3ms/step - loss: 0.3623 - accuracy: 0.9031 - val_loss: 0.1713 - val_accuracy: 0.9522\n",
            "Epoch 2/20\n",
            "1500/1500 [==============================] - 4s 3ms/step - loss: 0.1483 - accuracy: 0.9571 - val_loss: 0.1321 - val_accuracy: 0.9622\n",
            "Epoch 3/20\n",
            "1500/1500 [==============================] - 4s 3ms/step - loss: 0.1015 - accuracy: 0.9706 - val_loss: 0.1213 - val_accuracy: 0.9632\n",
            "Epoch 4/20\n",
            "1500/1500 [==============================] - 4s 3ms/step - loss: 0.0752 - accuracy: 0.9789 - val_loss: 0.0913 - val_accuracy: 0.9722\n",
            "Epoch 5/20\n",
            "1500/1500 [==============================] - 4s 3ms/step - loss: 0.0568 - accuracy: 0.9831 - val_loss: 0.0873 - val_accuracy: 0.9730\n",
            "Epoch 6/20\n",
            "1500/1500 [==============================] - 4s 3ms/step - loss: 0.0430 - accuracy: 0.9877 - val_loss: 0.0828 - val_accuracy: 0.9737\n",
            "Epoch 7/20\n",
            "1500/1500 [==============================] - 4s 3ms/step - loss: 0.0331 - accuracy: 0.9908 - val_loss: 0.0820 - val_accuracy: 0.9750\n",
            "Epoch 8/20\n",
            "1500/1500 [==============================] - 4s 3ms/step - loss: 0.0253 - accuracy: 0.9932 - val_loss: 0.0812 - val_accuracy: 0.9770\n",
            "Epoch 9/20\n",
            "1500/1500 [==============================] - 4s 3ms/step - loss: 0.0192 - accuracy: 0.9950 - val_loss: 0.0817 - val_accuracy: 0.9762\n",
            "Epoch 10/20\n",
            "1500/1500 [==============================] - 4s 3ms/step - loss: 0.0153 - accuracy: 0.9963 - val_loss: 0.0857 - val_accuracy: 0.9753\n",
            "Epoch 11/20\n",
            "1500/1500 [==============================] - 4s 3ms/step - loss: 0.0109 - accuracy: 0.9975 - val_loss: 0.0982 - val_accuracy: 0.9739\n"
          ]
        }
      ]
    },
    {
      "cell_type": "code",
      "source": [],
      "metadata": {
        "id": "xK3zax8v2z4j"
      },
      "execution_count": null,
      "outputs": []
    }
  ]
}